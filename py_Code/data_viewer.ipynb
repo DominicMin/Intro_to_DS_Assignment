{
 "cells": [
  {
   "cell_type": "markdown",
   "id": "e9c256a3",
   "metadata": {},
   "source": [
    "### Load cleaned data and pre-defined classes"
   ]
  },
  {
   "cell_type": "code",
   "execution_count": 9,
   "id": "8ace092a",
   "metadata": {},
   "outputs": [],
   "source": [
    "from data_clean import Data_to_Clean,Data_to_Analyze\n",
    "import pickle\n",
    "import pandas as pd\n",
    "MBTI_types=[\n",
    "    \"ISTJ\", \"ISFJ\", \"INFJ\", \"INTJ\",\n",
    "    \"ISTP\", \"ISFP\", \"INFP\", \"INTP\",\n",
    "    \"ESTP\", \"ESFP\", \"ENFP\", \"ENTP\",\n",
    "    \"ESTJ\", \"ESFJ\", \"ENFJ\", \"ENTJ\"\n",
    "]\n",
    "cleaned_data=dict.fromkeys(MBTI_types, None)\n",
    "for type in cleaned_data.keys():\n",
    "    file_path=f\"Data\\\\cleaned_data\\\\{type}_cleaned.pkl\" \n",
    "    try:\n",
    "        with open(file_path, 'rb') as f:\n",
    "            cleaned_data[type] = pickle.load(f)\n",
    "    except FileNotFoundError:\n",
    "        print(f\"Error: File not found at {file_path}\")\n",
    "    except pickle.UnpicklingError:\n",
    "        print(f\"Error: Could not unpickle the file {file_path}. It might be corrupted or not a valid pickle file.\")\n",
    "    except Exception as e:\n",
    "        print(f\"An unexpected error occurred: {e}\")"
   ]
  },
  {
   "cell_type": "code",
   "execution_count": 10,
   "id": "bb883ef7",
   "metadata": {},
   "outputs": [
    {
     "data": {
      "text/plain": [
       "type                                                                  ENFP\n",
       "sentence_quantity        [50, 50, 50, 50, 50, 50, 50, 50, 50, 50, 50, 5...\n",
       "ave_sentence_quantity                                            48.546667\n",
       "word_count               [1856, 1508, 1359, 1308, 1145, 1366, 1111, 927...\n",
       "ave_word_count                                                 1345.533333\n",
       "upper_ratio              [0.03661812526509261, 0.04079665917121748, 0.0...\n",
       "ave_upper_ratio                                                   0.056934\n",
       "reading_ease             [82.34, 68.87, 74.9, 75.5, 69.38, 70.02, 69.28...\n",
       "ave_reading_ease                                                 74.426548\n",
       "GF_index                 [7.16, 7.96, 7.57, 7.35, 7.49, 9.48, 7.57, 9.5...\n",
       "ave_GF_index                                                      7.477807\n",
       "dtype: object"
      ]
     },
     "execution_count": 10,
     "metadata": {},
     "output_type": "execute_result"
    }
   ],
   "source": [
    "enfp=cleaned_data[\"ENFP\"]\n",
    "enfp.basic_identities"
   ]
  },
  {
   "cell_type": "code",
   "execution_count": 11,
   "id": "82b95c0e",
   "metadata": {},
   "outputs": [
    {
     "data": {
      "text/html": [
       "<div>\n",
       "<style scoped>\n",
       "    .dataframe tbody tr th:only-of-type {\n",
       "        vertical-align: middle;\n",
       "    }\n",
       "\n",
       "    .dataframe tbody tr th {\n",
       "        vertical-align: top;\n",
       "    }\n",
       "\n",
       "    .dataframe thead th {\n",
       "        text-align: right;\n",
       "    }\n",
       "</style>\n",
       "<table border=\"1\" class=\"dataframe\">\n",
       "  <thead>\n",
       "    <tr style=\"text-align: right;\">\n",
       "      <th></th>\n",
       "      <th>type</th>\n",
       "      <th>posts</th>\n",
       "    </tr>\n",
       "  </thead>\n",
       "  <tbody>\n",
       "    <tr>\n",
       "      <th>0</th>\n",
       "      <td>ENFP</td>\n",
       "      <td>[[want, go, trip, without, stay, behind, would...</td>\n",
       "    </tr>\n",
       "    <tr>\n",
       "      <th>1</th>\n",
       "      <td>ENFP</td>\n",
       "      <td>[[hey, enfps, post, thread, philosophy, board,...</td>\n",
       "    </tr>\n",
       "    <tr>\n",
       "      <th>2</th>\n",
       "      <td>ENFP</td>\n",
       "      <td>[[brother, far, right], [im, infj, lot, see, f...</td>\n",
       "    </tr>\n",
       "    <tr>\n",
       "      <th>3</th>\n",
       "      <td>ENFP</td>\n",
       "      <td>[[learn, say, right, way, great, talent, yet, ...</td>\n",
       "    </tr>\n",
       "    <tr>\n",
       "      <th>4</th>\n",
       "      <td>ENFP</td>\n",
       "      <td>[[know, right, year, old, fucking, crazy, shit...</td>\n",
       "    </tr>\n",
       "    <tr>\n",
       "      <th>...</th>\n",
       "      <td>...</td>\n",
       "      <td>...</td>\n",
       "    </tr>\n",
       "    <tr>\n",
       "      <th>670</th>\n",
       "      <td>ENFP</td>\n",
       "      <td>[[thank, look, forward, connect, others, forum...</td>\n",
       "    </tr>\n",
       "    <tr>\n",
       "      <th>671</th>\n",
       "      <td>ENFP</td>\n",
       "      <td>[[seriously, relate, struggle, one, big, hurdl...</td>\n",
       "    </tr>\n",
       "    <tr>\n",
       "      <th>672</th>\n",
       "      <td>ENFP</td>\n",
       "      <td>[[hey, happy, meet, get, idea, great, quality,...</td>\n",
       "    </tr>\n",
       "    <tr>\n",
       "      <th>673</th>\n",
       "      <td>ENFP</td>\n",
       "      <td>[[leoni, really, bad, social, anxiety, take, m...</td>\n",
       "    </tr>\n",
       "    <tr>\n",
       "      <th>674</th>\n",
       "      <td>ENFP</td>\n",
       "      <td>[[thread, already, exist, someplace, else, hec...</td>\n",
       "    </tr>\n",
       "  </tbody>\n",
       "</table>\n",
       "<p>675 rows × 2 columns</p>\n",
       "</div>"
      ],
      "text/plain": [
       "     type                                              posts\n",
       "0    ENFP  [[want, go, trip, without, stay, behind, would...\n",
       "1    ENFP  [[hey, enfps, post, thread, philosophy, board,...\n",
       "2    ENFP  [[brother, far, right], [im, infj, lot, see, f...\n",
       "3    ENFP  [[learn, say, right, way, great, talent, yet, ...\n",
       "4    ENFP  [[know, right, year, old, fucking, crazy, shit...\n",
       "..    ...                                                ...\n",
       "670  ENFP  [[thank, look, forward, connect, others, forum...\n",
       "671  ENFP  [[seriously, relate, struggle, one, big, hurdl...\n",
       "672  ENFP  [[hey, happy, meet, get, idea, great, quality,...\n",
       "673  ENFP  [[leoni, really, bad, social, anxiety, take, m...\n",
       "674  ENFP  [[thread, already, exist, someplace, else, hec...\n",
       "\n",
       "[675 rows x 2 columns]"
      ]
     },
     "execution_count": 11,
     "metadata": {},
     "output_type": "execute_result"
    }
   ],
   "source": [
    "enfp.data"
   ]
  },
  {
   "cell_type": "code",
   "execution_count": null,
   "id": "662e859e",
   "metadata": {},
   "outputs": [],
   "source": []
  }
 ],
 "metadata": {
  "kernelspec": {
   "display_name": "Python 3",
   "language": "python",
   "name": "python3"
  },
  "language_info": {
   "codemirror_mode": {
    "name": "ipython",
    "version": 3
   },
   "file_extension": ".py",
   "mimetype": "text/x-python",
   "name": "python",
   "nbconvert_exporter": "python",
   "pygments_lexer": "ipython3",
   "version": "3.12.6"
  }
 },
 "nbformat": 4,
 "nbformat_minor": 5
}
