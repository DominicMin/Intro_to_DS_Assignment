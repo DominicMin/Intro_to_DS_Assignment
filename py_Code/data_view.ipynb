{
 "cells": [
  {
   "cell_type": "code",
   "execution_count": 9,
   "id": "8ace092a",
   "metadata": {},
   "outputs": [
    {
     "name": "stdout",
     "output_type": "stream",
     "text": [
      "Variable successfully loaded from cleaned_data.pkl\n",
      "      type                                              posts\n",
      "0     INFJ  [[enfp, intj, moment, sportscenter, top, ten, ...\n",
      "1     ENTP  [[im, finding, lack, post, alarming], [sex, bo...\n",
      "2     INTP  [[good, one], [course, say, know, thats, bless...\n",
      "3     INTJ  [[dear, intp, enjoyed, conversation, day, esot...\n",
      "4     ENTJ  [[youre, fired], [thats, another, silly, misco...\n",
      "...    ...                                                ...\n",
      "8670  ISFP  [[ixfp, always, think, cat, fi, doms, reason],...\n",
      "8671  ENFP  [[soif, thread, already, exists, someplace, el...\n",
      "8672  INTP  [[many, question, thing, would, take, purple, ...\n",
      "8673  INFP  [[conflicted, right, come, wanting, child, hon...\n",
      "8674  INFP  [[long, since, personalitycafe, although, does...\n",
      "\n",
      "[8675 rows x 2 columns]\n"
     ]
    }
   ],
   "source": [
    "import pickle\n",
    "file_path = \"cleaned_data.pkl\" # 替换成你的.pkl文件路径\n",
    "\n",
    "try:\n",
    "    with open(file_path, 'rb') as f:\n",
    "        loaded_variable = pickle.load(f)\n",
    "\n",
    "    print(f\"Variable successfully loaded from {file_path}\")\n",
    "    # 现在 loaded_variable 包含了从文件中加载的数据\n",
    "    print(loaded_variable)\n",
    "\n",
    "except FileNotFoundError:\n",
    "    print(f\"Error: File not found at {file_path}\")\n",
    "except pickle.UnpicklingError:\n",
    "    print(f\"Error: Could not unpickle the file {file_path}. It might be corrupted or not a valid pickle file.\")\n",
    "except Exception as e:\n",
    "    print(f\"An unexpected error occurred: {e}\")"
   ]
  },
  {
   "cell_type": "code",
   "execution_count": 11,
   "id": "32f8b614",
   "metadata": {},
   "outputs": [
    {
     "data": {
      "text/html": [
       "<div>\n",
       "<style scoped>\n",
       "    .dataframe tbody tr th:only-of-type {\n",
       "        vertical-align: middle;\n",
       "    }\n",
       "\n",
       "    .dataframe tbody tr th {\n",
       "        vertical-align: top;\n",
       "    }\n",
       "\n",
       "    .dataframe thead th {\n",
       "        text-align: right;\n",
       "    }\n",
       "</style>\n",
       "<table border=\"1\" class=\"dataframe\">\n",
       "  <thead>\n",
       "    <tr style=\"text-align: right;\">\n",
       "      <th></th>\n",
       "      <th>type</th>\n",
       "      <th>posts</th>\n",
       "    </tr>\n",
       "  </thead>\n",
       "  <tbody>\n",
       "    <tr>\n",
       "      <th>0</th>\n",
       "      <td>INFJ</td>\n",
       "      <td>[[enfp, intj, moment, sportscenter, top, ten, ...</td>\n",
       "    </tr>\n",
       "    <tr>\n",
       "      <th>1</th>\n",
       "      <td>ENTP</td>\n",
       "      <td>[[im, finding, lack, post, alarming], [sex, bo...</td>\n",
       "    </tr>\n",
       "    <tr>\n",
       "      <th>2</th>\n",
       "      <td>INTP</td>\n",
       "      <td>[[good, one], [course, say, know, thats, bless...</td>\n",
       "    </tr>\n",
       "    <tr>\n",
       "      <th>3</th>\n",
       "      <td>INTJ</td>\n",
       "      <td>[[dear, intp, enjoyed, conversation, day, esot...</td>\n",
       "    </tr>\n",
       "    <tr>\n",
       "      <th>4</th>\n",
       "      <td>ENTJ</td>\n",
       "      <td>[[youre, fired], [thats, another, silly, misco...</td>\n",
       "    </tr>\n",
       "    <tr>\n",
       "      <th>5</th>\n",
       "      <td>INTJ</td>\n",
       "      <td>[[1837], [science, perfect, scientist, claim, ...</td>\n",
       "    </tr>\n",
       "    <tr>\n",
       "      <th>6</th>\n",
       "      <td>INFJ</td>\n",
       "      <td>[[cant, draw, nail, haha, done, professional, ...</td>\n",
       "    </tr>\n",
       "    <tr>\n",
       "      <th>7</th>\n",
       "      <td>INTJ</td>\n",
       "      <td>[[tend, build, collection, thing, desktop, use...</td>\n",
       "    </tr>\n",
       "    <tr>\n",
       "      <th>8</th>\n",
       "      <td>INFJ</td>\n",
       "      <td>[[im, sure, thats, good, question, distinction...</td>\n",
       "    </tr>\n",
       "    <tr>\n",
       "      <th>9</th>\n",
       "      <td>INTP</td>\n",
       "      <td>[[im, position, actually, let, go, person, due...</td>\n",
       "    </tr>\n",
       "  </tbody>\n",
       "</table>\n",
       "</div>"
      ],
      "text/plain": [
       "   type                                              posts\n",
       "0  INFJ  [[enfp, intj, moment, sportscenter, top, ten, ...\n",
       "1  ENTP  [[im, finding, lack, post, alarming], [sex, bo...\n",
       "2  INTP  [[good, one], [course, say, know, thats, bless...\n",
       "3  INTJ  [[dear, intp, enjoyed, conversation, day, esot...\n",
       "4  ENTJ  [[youre, fired], [thats, another, silly, misco...\n",
       "5  INTJ  [[1837], [science, perfect, scientist, claim, ...\n",
       "6  INFJ  [[cant, draw, nail, haha, done, professional, ...\n",
       "7  INTJ  [[tend, build, collection, thing, desktop, use...\n",
       "8  INFJ  [[im, sure, thats, good, question, distinction...\n",
       "9  INTP  [[im, position, actually, let, go, person, due..."
      ]
     },
     "execution_count": 11,
     "metadata": {},
     "output_type": "execute_result"
    }
   ],
   "source": [
    "import pandas as pd\n",
    "data=loaded_variable\n",
    "data.head(10)"
   ]
  },
  {
   "cell_type": "code",
   "execution_count": null,
   "id": "e770f23d",
   "metadata": {},
   "outputs": [],
   "source": []
  }
 ],
 "metadata": {
  "kernelspec": {
   "display_name": "Python 3",
   "language": "python",
   "name": "python3"
  },
  "language_info": {
   "codemirror_mode": {
    "name": "ipython",
    "version": 3
   },
   "file_extension": ".py",
   "mimetype": "text/x-python",
   "name": "python",
   "nbconvert_exporter": "python",
   "pygments_lexer": "ipython3",
   "version": "3.12.6"
  }
 },
 "nbformat": 4,
 "nbformat_minor": 5
}
