{
 "cells": [
  {
   "cell_type": "code",
   "execution_count": 1,
   "id": "8ace092a",
   "metadata": {},
   "outputs": [
    {
     "name": "stdout",
     "output_type": "stream",
     "text": [
      "Variable successfully loaded from cleaned_data.pkl\n",
      "      type                                              posts\n",
      "0     INFJ  [[enfp, and, intj, moment, sportscenter, not, ...\n",
      "1     ENTP  [[i, be, find, the, lack, of, me, in, these, p...\n",
      "2     INTP  [[good, one], [of, course, to, which, i, say, ...\n",
      "3     INTJ  [[dear, intp, i, enjoy, our, conversation, the...\n",
      "4     ENTJ  [[you, be, fire], [that, be, another, silly, m...\n",
      "...    ...                                                ...\n",
      "8670  ISFP  [[ixfp, just, because, i, always, think, of, c...\n",
      "8671  ENFP  [[so, if, this, thread, already, exist, somepl...\n",
      "8672  INTP  [[so, many, question, when, i, do, these, thin...\n",
      "8673  INFP  [[i, be, very, conflicted, right, now, when, i...\n",
      "8674  INFP  [[it, have, be, too, long, since, i, have, be,...\n",
      "\n",
      "[8675 rows x 2 columns]\n"
     ]
    }
   ],
   "source": [
    "import pickle\n",
    "import pandas as pd\n",
    "file_path = \"cleaned_data.pkl\" \n",
    "\n",
    "try:\n",
    "    with open(file_path, 'rb') as f:\n",
    "        cleaned_data = pickle.load(f)\n",
    "\n",
    "    print(f\"Variable successfully loaded from {file_path}\")\n",
    "    # 现在 cleaned_data 包含了从文件中加载的数据\n",
    "    print(cleaned_data)\n",
    "\n",
    "except FileNotFoundError:\n",
    "    print(f\"Error: File not found at {file_path}\")\n",
    "except pickle.UnpicklingError:\n",
    "    print(f\"Error: Could not unpickle the file {file_path}. It might be corrupted or not a valid pickle file.\")\n",
    "except Exception as e:\n",
    "    print(f\"An unexpected error occurred: {e}\")"
   ]
  },
  {
   "cell_type": "code",
   "execution_count": 3,
   "id": "29699451",
   "metadata": {},
   "outputs": [
    {
     "name": "stdout",
     "output_type": "stream",
     "text": [
      "    type                                              posts\n",
      "0   INFJ  [[enfp, and, intj, moment, sportscenter, not, ...\n",
      "1   ENTP  [[i, be, find, the, lack, of, me, in, these, p...\n",
      "2   INTP  [[good, one], [of, course, to, which, i, say, ...\n",
      "3   INTJ  [[dear, intp, i, enjoy, our, conversation, the...\n",
      "4   ENTJ  [[you, be, fire], [that, be, another, silly, m...\n",
      "5   INTJ  [[18, 37], [science, be, not, perfect, no, sci...\n",
      "6   INFJ  [[no, i, can, not, draw, on, my, own, nail, ha...\n",
      "7   INTJ  [[i, tend, to, build, up, a, collection, of, t...\n",
      "8   INFJ  [[i, be, not, sure, that, be, a, good, questio...\n",
      "9   INTP  [[i, be, in, this, position, where, i, have, t...\n",
      "10  INFJ  [[one, time, my, parent, be, fight, over, my, ...\n",
      "11  ENFJ  [[51, o], [i, go, through, a, break, up, some,...\n",
      "12  INFJ  [[joe, santagato, entp], [enfj, or, entp, i, b...\n",
      "13  INTJ  [[fair, enough, if, that, be, how, you, want, ...\n",
      "14  INTP  [[basically, this], [can, i, have, cheezburgr]...\n",
      "15  INTP  [[your, comment, scream, intj, bro, especially...\n",
      "16  INFJ  [[some, of, these, both, excite, and, calm, me...\n",
      "17  INFP  [[i, think, we, do, agree, i, personally, do, ...\n",
      "18  INFJ  [[i, fully, believe, in, the, power, of, be, a...\n",
      "19  INFP  [[that, be, normal, it, happen, also, to, me, ...\n"
     ]
    }
   ],
   "source": [
    "print(cleaned_data.head(20))"
   ]
  },
  {
   "cell_type": "code",
   "execution_count": null,
   "id": "9e5cf163",
   "metadata": {},
   "outputs": [],
   "source": []
  }
 ],
 "metadata": {
  "kernelspec": {
   "display_name": "Python 3",
   "language": "python",
   "name": "python3"
  },
  "language_info": {
   "codemirror_mode": {
    "name": "ipython",
    "version": 3
   },
   "file_extension": ".py",
   "mimetype": "text/x-python",
   "name": "python",
   "nbconvert_exporter": "python",
   "pygments_lexer": "ipython3",
   "version": "3.12.6"
  }
 },
 "nbformat": 4,
 "nbformat_minor": 5
}
