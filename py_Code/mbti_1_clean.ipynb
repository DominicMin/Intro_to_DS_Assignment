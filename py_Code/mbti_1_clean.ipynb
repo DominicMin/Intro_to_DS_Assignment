{
 "cells": [
  {
   "cell_type": "code",
   "execution_count": 4,
   "id": "f303484e",
   "metadata": {},
   "outputs": [],
   "source": [
    "import pandas as pd\n",
    "import re\n",
    "\n",
    "# 读取CSV文件为DataFrame\n",
    "# 由于主包不会从github调用文件，所以大家运行之前自己改一下\n",
    "file_path = \"Data\\\\mbti_1.csv\"\n",
    "df = pd.read_csv(file_path)\n",
    "pd.set_option('display.max_colwidth', None)\n",
    "# 显示前几行原始数据以了解结构\n",
    "#df.head()"
   ]
  },
  {
   "cell_type": "code",
   "execution_count": 5,
   "id": "29d33ba7",
   "metadata": {},
   "outputs": [],
   "source": [
    "# 使用正向预查 只吃网址，不吞分隔符\n",
    "url_pattern = re.compile(r'https?://\\S+')\n",
    "\n",
    "def strip_url_keep_delim(text: str) -> str:\n",
    "    def _repl(match):\n",
    "        m = match.group(0)\n",
    "        # 如果网址以|||结尾那么去除网址保留|||\n",
    "        return '|||' if m.endswith('|||') else ''\n",
    "    return url_pattern.sub(_repl, text)\n",
    "\n",
    "# posts清洗方法\n",
    "def clean_posts(text):\n",
    "    #去除网址\n",
    "    text = strip_url_keep_delim(text)\n",
    "    #去除开头结尾的单引号\n",
    "    text = text.strip(\"'\")\n",
    "    #将字符串按照|||分开，然后去除开头结尾的空格、制表符、换行符等等\n",
    "    parts = [p.strip() for p in text.split('|||') if p.strip()]\n",
    "    return parts\n",
    "\n",
    "# 对posts应用清洗操作\n",
    "df[\"posts_clean\"] = df[\"posts\"].apply(clean_posts)\n",
    "\n",
    "# 如果要删除原来的数据\n",
    "# df = df.drop(columns=[\"posts\"])\n",
    "\n",
    "#检视清洗后的数据\n",
    "#df.head()\n",
    "\n"
   ]
  },
  {
   "cell_type": "code",
   "execution_count": 6,
   "id": "0571479d",
   "metadata": {},
   "outputs": [],
   "source": [
    "#作用是删去句子末尾的句号\n",
    "def drop_trailing_period(sentences):\n",
    "    return [s[:-1] if s.endswith('.') else s for s in sentences]\n",
    "\n",
    "df[\"posts_clean\"] = df[\"posts_clean\"].apply(drop_trailing_period)\n",
    "\n",
    "#df.head()"
   ]
  }
 ],
 "metadata": {
  "kernelspec": {
   "display_name": "Python 3",
   "language": "python",
   "name": "python3"
  },
  "language_info": {
   "codemirror_mode": {
    "name": "ipython",
    "version": 3
   },
   "file_extension": ".py",
   "mimetype": "text/x-python",
   "name": "python",
   "nbconvert_exporter": "python",
   "pygments_lexer": "ipython3",
   "version": "3.12.6"
  }
 },
 "nbformat": 4,
 "nbformat_minor": 5
}
